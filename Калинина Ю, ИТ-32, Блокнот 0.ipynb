{
 "cells": [
  {
   "cell_type": "markdown",
   "metadata": {},
   "source": [
    "Задание 1. Импорт библиотеки"
   ]
  },
  {
   "cell_type": "code",
   "execution_count": 4,
   "metadata": {},
   "outputs": [],
   "source": [
    "import pandas as pd"
   ]
  },
  {
   "cell_type": "markdown",
   "metadata": {},
   "source": [
    "Задание 2. Создание списка"
   ]
  },
  {
   "cell_type": "code",
   "execution_count": 5,
   "metadata": {},
   "outputs": [],
   "source": [
    "music = [\n",
    "    ['Михаил Глинка', 'Патриотическая песня'],\n",
    "    ['Петр Чайковский', 'Русский танец'],\n",
    "    ['Николай Римский-Корсаков', 'Полет шмеля'],\n",
    "    ['Дмитрий Шостакович', 'Седьмая симфония'],\n",
    "    ['Арам Хачатурян', 'Танец с саблями']\n",
    "]"
   ]
  },
  {
   "cell_type": "markdown",
   "metadata": {},
   "source": [
    "Задание 3. Создание столбцов"
   ]
  },
  {
   "cell_type": "code",
   "execution_count": 6,
   "metadata": {},
   "outputs": [],
   "source": [
    "entries = ['artist', 'track']"
   ]
  },
  {
   "cell_type": "markdown",
   "metadata": {},
   "source": [
    "Задание 4. Создание таблицы"
   ]
  },
  {
   "cell_type": "code",
   "execution_count": 7,
   "metadata": {},
   "outputs": [
    {
     "name": "stdout",
     "output_type": "stream",
     "text": [
      "                     artist                 track\n",
      "0             Михаил Глинка  Патриотическая песня\n",
      "1           Петр Чайковский         Русский танец\n",
      "2  Николай Римский-Корсаков           Полет шмеля\n",
      "3        Дмитрий Шостакович      Седьмая симфония\n",
      "4            Арам Хачатурян       Танец с саблями\n"
     ]
    }
   ],
   "source": [
    "musicBase = pd.DataFrame(data = music, columns = entries)\n",
    "print(musicBase)"
   ]
  }
 ],
 "metadata": {
  "kernelspec": {
   "display_name": "Python 3",
   "language": "python",
   "name": "python3"
  },
  "language_info": {
   "codemirror_mode": {
    "name": "ipython",
    "version": 3
   },
   "file_extension": ".py",
   "mimetype": "text/x-python",
   "name": "python",
   "nbconvert_exporter": "python",
   "pygments_lexer": "ipython3",
   "version": "3.10.8"
  }
 },
 "nbformat": 4,
 "nbformat_minor": 2
}
